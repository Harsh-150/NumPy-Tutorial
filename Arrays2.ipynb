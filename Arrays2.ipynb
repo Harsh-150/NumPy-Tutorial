{
 "cells": [
  {
   "cell_type": "code",
   "execution_count": 7,
   "id": "c5a553ed-8758-4c6d-85ff-4fa8e1665675",
   "metadata": {},
   "outputs": [
    {
     "name": "stdout",
     "output_type": "stream",
     "text": [
      "[0. 0. 0. 0.]\n",
      "\n",
      "[[0. 0. 0. 0.]\n",
      " [0. 0. 0. 0.]\n",
      " [0. 0. 0. 0.]]\n"
     ]
    }
   ],
   "source": [
    "import numpy as np\n",
    "\n",
    "arr_zero = np.zeros(4)\n",
    "print(arr_zero)\n",
    "\n",
    "arr_zero2 = np.zeros((3,4)) #  2D array with 3 rows and 4 cols\n",
    "print()\n",
    "print(arr_zero2)"
   ]
  },
  {
   "cell_type": "code",
   "execution_count": 13,
   "id": "ecd27830-ad6c-49ff-9c0c-a2be904bf824",
   "metadata": {},
   "outputs": [
    {
     "name": "stdout",
     "output_type": "stream",
     "text": [
      "[1. 1. 1. 1. 1. 1. 1.]\n",
      "[[1. 1. 1.]\n",
      " [1. 1. 1.]\n",
      " [1. 1. 1.]\n",
      " [1. 1. 1.]\n",
      " [1. 1. 1.]\n",
      " [1. 1. 1.]]\n"
     ]
    }
   ],
   "source": [
    "arr_ones = np.ones(7)\n",
    "arr_ones2 = np.ones((6,3))\n",
    "\n",
    "print(arr_ones)\n",
    "print(arr_ones2)"
   ]
  },
  {
   "cell_type": "code",
   "execution_count": 17,
   "id": "cc206517-aa08-4b5c-a0f7-a72a0f25000f",
   "metadata": {},
   "outputs": [
    {
     "name": "stdout",
     "output_type": "stream",
     "text": [
      "[4.67296746e-307 1.69121096e-306 4.22791195e-307 1.42419938e-306\n",
      " 7.56603881e-307 8.45603440e-307 4.45046008e-307 2.37667058e-312]\n"
     ]
    }
   ],
   "source": [
    "arr_empty = np.empty(8)\n",
    "\n",
    "print(arr_empty)"
   ]
  },
  {
   "cell_type": "code",
   "execution_count": 21,
   "id": "2776dcb6-9adc-4dc1-8d8f-ee8e2c56c2d5",
   "metadata": {},
   "outputs": [
    {
     "name": "stdout",
     "output_type": "stream",
     "text": [
      "[0 1 2 3 4 5 6 7]\n"
     ]
    }
   ],
   "source": [
    "arr_range = np.arange(8)\n",
    "\n",
    "print(arr_range)"
   ]
  },
  {
   "cell_type": "code",
   "execution_count": 27,
   "id": "671a45c5-21e7-4995-b0ca-048b441dfb8b",
   "metadata": {},
   "outputs": [
    {
     "name": "stdout",
     "output_type": "stream",
     "text": [
      "[[1. 0. 0. 0. 0. 0.]\n",
      " [0. 1. 0. 0. 0. 0.]\n",
      " [0. 0. 1. 0. 0. 0.]\n",
      " [0. 0. 0. 1. 0. 0.]\n",
      " [0. 0. 0. 0. 1. 0.]\n",
      " [0. 0. 0. 0. 0. 1.]]\n",
      "\n",
      "[[1. 0. 0. 0. 0.]\n",
      " [0. 1. 0. 0. 0.]\n",
      " [0. 0. 1. 0. 0.]]\n"
     ]
    }
   ],
   "source": [
    "arr_diag = np.eye(6)\n",
    "arr_diag2 = np.eye(3,5)\n",
    "\n",
    "print(arr_diag)\n",
    "print()\n",
    "print(arr_diag2)"
   ]
  },
  {
   "cell_type": "code",
   "execution_count": 29,
   "id": "14b5097b-1a72-43ef-b373-38e10093bc0f",
   "metadata": {},
   "outputs": [
    {
     "name": "stdout",
     "output_type": "stream",
     "text": [
      "[ 0.  5. 10. 15. 20.]\n"
     ]
    }
   ],
   "source": [
    "arr_ls = np.linspace(0,20,num=5)\n",
    "\n",
    "print(arr_ls)"
   ]
  },
  {
   "cell_type": "code",
   "execution_count": null,
   "id": "e0bfa619-4d72-42e0-851d-4ca9e1750267",
   "metadata": {},
   "outputs": [],
   "source": []
  }
 ],
 "metadata": {
  "kernelspec": {
   "display_name": "Python 3 (ipykernel)",
   "language": "python",
   "name": "python3"
  },
  "language_info": {
   "codemirror_mode": {
    "name": "ipython",
    "version": 3
   },
   "file_extension": ".py",
   "mimetype": "text/x-python",
   "name": "python",
   "nbconvert_exporter": "python",
   "pygments_lexer": "ipython3",
   "version": "3.12.4"
  }
 },
 "nbformat": 4,
 "nbformat_minor": 5
}
