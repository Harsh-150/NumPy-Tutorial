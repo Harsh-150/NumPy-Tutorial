{
 "cells": [
  {
   "cell_type": "code",
   "execution_count": 9,
   "id": "5e2ee7b6-f024-4a87-b2a3-5d7705ca22a1",
   "metadata": {},
   "outputs": [
    {
     "name": "stdout",
     "output_type": "stream",
     "text": [
      "(array([ 1,  6,  8, 11, 13], dtype=int64),)\n",
      "(array([ 1,  3,  5,  6,  8,  9, 11, 12, 13], dtype=int64),)\n"
     ]
    }
   ],
   "source": [
    "import numpy as np\n",
    "\n",
    "arr = np.array([1,2,3,4,5,6,2,7,2,8,9,2,10,2])\n",
    "\n",
    "x = np.where(arr == 2)\n",
    "print(x)\n",
    "\n",
    "y = np.where(arr%2 == 0)\n",
    "print(y)"
   ]
  },
  {
   "cell_type": "code",
   "execution_count": 19,
   "id": "8667c086-cabe-420b-a076-c4104905617c",
   "metadata": {},
   "outputs": [
    {
     "name": "stdout",
     "output_type": "stream",
     "text": [
      "22\n",
      "13\n"
     ]
    }
   ],
   "source": [
    "arr = np.array([1,2,3,4,5,5,5,5,5,5,5,5,5,6,7,8,9,9,9,9,9,9])\n",
    "\n",
    "x = np.searchsorted(arr,50)\n",
    "print(x)\n",
    "y = np.searchsorted(arr,5,side=\"right\")\n",
    "print(y)"
   ]
  },
  {
   "cell_type": "code",
   "execution_count": 25,
   "id": "e2e830ef-fda8-4d4a-abce-ffdbc4e56cab",
   "metadata": {},
   "outputs": [
    {
     "name": "stdout",
     "output_type": "stream",
     "text": [
      "[   1    1    2    4   21   23   43   98  342 9876]\n",
      "['eghjm' 'mnbvc' 'poiuyhg' 'rtyhjbv' 'wedfghj']\n"
     ]
    }
   ],
   "source": [
    "arr = np.array([1,2,43,21,23,4,1,342,98,9876])\n",
    "arr1 = np.array([\"poiuyhg\",\"eghjm\",\"rtyhjbv\",\"mnbvc\",\"wedfghj\"])\n",
    "print(np.sort(arr))\n",
    "print(np.sort(arr1))"
   ]
  },
  {
   "cell_type": "code",
   "execution_count": 29,
   "id": "ba86916c-e39d-4cf6-8b2f-c38568683702",
   "metadata": {},
   "outputs": [
    {
     "name": "stdout",
     "output_type": "stream",
     "text": [
      "[2 3 5]\n"
     ]
    }
   ],
   "source": [
    "arr = np.array([1,2,3,4,5,6])\n",
    "x = [False,True,True,False,True,False]\n",
    "\n",
    "ans = arr[x]\n",
    "print(ans)"
   ]
  },
  {
   "cell_type": "code",
   "execution_count": null,
   "id": "4ebd6c5e-2d5e-42f5-957e-a74f1043fc8b",
   "metadata": {},
   "outputs": [],
   "source": []
  }
 ],
 "metadata": {
  "kernelspec": {
   "display_name": "Python 3 (ipykernel)",
   "language": "python",
   "name": "python3"
  },
  "language_info": {
   "codemirror_mode": {
    "name": "ipython",
    "version": 3
   },
   "file_extension": ".py",
   "mimetype": "text/x-python",
   "name": "python",
   "nbconvert_exporter": "python",
   "pygments_lexer": "ipython3",
   "version": "3.12.4"
  }
 },
 "nbformat": 4,
 "nbformat_minor": 5
}
