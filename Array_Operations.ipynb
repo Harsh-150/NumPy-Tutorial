{
 "cells": [
  {
   "cell_type": "code",
   "execution_count": 1,
   "id": "b35e853f-d6af-4918-b4fa-1b675e677866",
   "metadata": {},
   "outputs": [
    {
     "name": "stdout",
     "output_type": "stream",
     "text": [
      "[1 2 3 4 5 6]\n",
      "[ 6  7  8  9 10 11]\n"
     ]
    }
   ],
   "source": [
    "import numpy as np\n",
    "\n",
    "arr = np.array([1,2,3,4,5,6])\n",
    "add_arr = arr + 5\n",
    "\n",
    "print(arr)\n",
    "print(add_arr)"
   ]
  },
  {
   "cell_type": "code",
   "execution_count": 3,
   "id": "979d26c6-12b0-43d3-a868-56413d55757d",
   "metadata": {},
   "outputs": [
    {
     "name": "stdout",
     "output_type": "stream",
     "text": [
      "[1 2 3 4 5 6]\n",
      "[10 22 37 44 25 60]\n",
      "[11 24 40 48 30 66]\n"
     ]
    }
   ],
   "source": [
    "arr1 = np.array([1,2,3,4,5,6])\n",
    "arr2 = np.array([10,22,37,44,25,60])\n",
    "\n",
    "add_arr = arr1+arr2\n",
    "print(arr1)\n",
    "print(arr2)\n",
    "print(add_arr)"
   ]
  },
  {
   "cell_type": "code",
   "execution_count": 5,
   "id": "3049106a-6431-4428-bc48-802587fcb830",
   "metadata": {},
   "outputs": [
    {
     "name": "stdout",
     "output_type": "stream",
     "text": [
      "[1 2 3 4 5 6]\n",
      "[10 22 37 44 25 60]\n",
      "[ -9 -20 -34 -40 -20 -54]\n"
     ]
    }
   ],
   "source": [
    "arr1 = np.array([1,2,3,4,5,6])\n",
    "arr2 = np.array([10,22,37,44,25,60])\n",
    "\n",
    "add_arr = arr1-arr2\n",
    "print(arr1)\n",
    "print(arr2)\n",
    "print(add_arr)"
   ]
  },
  {
   "cell_type": "code",
   "execution_count": 11,
   "id": "9cf7a763-de18-4a06-94aa-463d46b485cb",
   "metadata": {},
   "outputs": [
    {
     "name": "stdout",
     "output_type": "stream",
     "text": [
      "[1 2 3 4 5 6]\n",
      "[10 22 37 44 25 60]\n",
      "[ 10  44 111 176 125 360]\n"
     ]
    }
   ],
   "source": [
    "arr1 = np.array([1,2,3,4,5,6])\n",
    "arr2 = np.array([10,22,37,44,25,60])\n",
    "\n",
    "add_arr = np.multiply(arr1,arr2)\n",
    "# add_arr = arr1*arr2 --> also works\n",
    "\n",
    "print(arr1)\n",
    "print(arr2)\n",
    "print(add_arr)"
   ]
  },
  {
   "cell_type": "code",
   "execution_count": null,
   "id": "518cda34-f491-4732-922a-262a86d74467",
   "metadata": {},
   "outputs": [],
   "source": []
  }
 ],
 "metadata": {
  "kernelspec": {
   "display_name": "Python 3 (ipykernel)",
   "language": "python",
   "name": "python3"
  },
  "language_info": {
   "codemirror_mode": {
    "name": "ipython",
    "version": 3
   },
   "file_extension": ".py",
   "mimetype": "text/x-python",
   "name": "python",
   "nbconvert_exporter": "python",
   "pygments_lexer": "ipython3",
   "version": "3.12.4"
  }
 },
 "nbformat": 4,
 "nbformat_minor": 5
}
