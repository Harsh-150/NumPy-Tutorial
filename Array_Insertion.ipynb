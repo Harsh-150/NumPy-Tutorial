{
 "cells": [
  {
   "cell_type": "code",
   "execution_count": 33,
   "id": "0bf55696-5837-4333-b93a-4653908cade0",
   "metadata": {},
   "outputs": [
    {
     "name": "stdout",
     "output_type": "stream",
     "text": [
      "[1 2 3 4 5 6 7]\n",
      "[ 1  2 40  3  4  5  6  7]\n",
      "[  1   2   3 999   4   5   6 999   7]\n",
      "[1.   2.   3.   4.   5.   6.   7.   9.99]\n",
      "[1 2 3 4 5 6]\n"
     ]
    }
   ],
   "source": [
    "import numpy as np\n",
    "\n",
    "arr = np.array([1,2,3,4,5,6,7])\n",
    "print(arr)\n",
    "\n",
    "arr1 = np.insert(arr,2,40)\n",
    "print(arr1)\n",
    "\n",
    "arr2 = np.insert(arr,(3,6),999)\n",
    "print(arr2)\n",
    "\n",
    "arr3 = np.append(arr,9.99)\n",
    "print(arr3)\n",
    "\n",
    "arr4 = np.delete(arr,6) # 6 is the index number of element to be deleted\n",
    "print(arr4)"
   ]
  },
  {
   "cell_type": "code",
   "execution_count": 31,
   "id": "1bc056ca-6e89-4752-9cac-3de64eb70a6d",
   "metadata": {},
   "outputs": [
    {
     "name": "stdout",
     "output_type": "stream",
     "text": [
      "[[1 2 3]\n",
      " [4 5 6]\n",
      " [7 8 9]]\n",
      "[[ 1 99  2  3]\n",
      " [ 4 99  5  6]\n",
      " [ 7 99  8  9]]\n",
      "[[ 1  2  3]\n",
      " [99 99 99]\n",
      " [ 4  5  6]\n",
      " [ 7  8  9]]\n",
      "[[  1   2   3]\n",
      " [999 998 997]\n",
      " [  4   5   6]\n",
      " [  7   8   9]]\n",
      "[[    1     2     3]\n",
      " [    4     5     6]\n",
      " [    7     8     9]\n",
      " [10000 10001 10002]]\n"
     ]
    }
   ],
   "source": [
    "arr = np.array([[1,2,3],[4,5,6],[7,8,9]])\n",
    "print(arr)\n",
    "\n",
    "arr1 = np.insert(arr,1,99,axis=1)\n",
    "print(arr1)\n",
    "\n",
    "arr2 = np.insert(arr,1,99,axis=0)\n",
    "print(arr2)\n",
    "\n",
    "arr3 = np.insert(arr,1,[999,998,997],axis=0)\n",
    "print(arr3)\n",
    "\n",
    "arr4 = np.append(arr,[[10000,10001,10002]],axis=0)\n",
    "print(arr4)"
   ]
  },
  {
   "cell_type": "code",
   "execution_count": null,
   "id": "3f03aeed-9cb6-4290-982b-6baa7fdeb75b",
   "metadata": {},
   "outputs": [],
   "source": [
    "\n"
   ]
  }
 ],
 "metadata": {
  "kernelspec": {
   "display_name": "Python 3 (ipykernel)",
   "language": "python",
   "name": "python3"
  },
  "language_info": {
   "codemirror_mode": {
    "name": "ipython",
    "version": 3
   },
   "file_extension": ".py",
   "mimetype": "text/x-python",
   "name": "python",
   "nbconvert_exporter": "python",
   "pygments_lexer": "ipython3",
   "version": "3.12.4"
  }
 },
 "nbformat": 4,
 "nbformat_minor": 5
}
