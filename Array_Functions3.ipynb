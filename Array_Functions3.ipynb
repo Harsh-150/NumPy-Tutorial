{
 "cells": [
  {
   "cell_type": "code",
   "execution_count": 3,
   "id": "352f6a31-876f-405b-83b7-e7ed01d6dd38",
   "metadata": {},
   "outputs": [
    {
     "name": "stdout",
     "output_type": "stream",
     "text": [
      "[1 6 2 4 3 5]\n"
     ]
    }
   ],
   "source": [
    "import numpy as np\n",
    "\n",
    "arr = np.array([1,2,3,4,5,6])\n",
    "np.random.shuffle(arr)\n",
    "print(arr)"
   ]
  },
  {
   "cell_type": "code",
   "execution_count": 13,
   "id": "66f1124a-4eea-46cf-bce2-e635ce66f197",
   "metadata": {},
   "outputs": [
    {
     "name": "stdout",
     "output_type": "stream",
     "text": [
      "[1 2 3 4 5 7 8 9]\n",
      "(array([1, 2, 3, 4, 5, 7, 8, 9]), array([ 0,  1,  3,  4,  5,  9, 11, 12], dtype=int64))\n",
      "(array([1, 2, 3, 4, 5, 7, 8, 9]), array([ 0,  1,  3,  4,  5,  9, 11, 12], dtype=int64), array([1, 3, 2, 2, 1, 2, 1, 2], dtype=int64))\n"
     ]
    }
   ],
   "source": [
    "arr = np.array([1,2,2,3,4,5,2,3,4,7,7,8,9,9])\n",
    "x = np.unique(arr)\n",
    "y = np.unique(arr,return_index=True)\n",
    "z = np.unique(arr,return_index=True,return_counts=True)\n",
    "print(x)\n",
    "print(y)\n",
    "print(z)"
   ]
  },
  {
   "cell_type": "code",
   "execution_count": 15,
   "id": "99f31899-dc4f-4cec-83ec-36b645fe51ed",
   "metadata": {},
   "outputs": [
    {
     "name": "stdout",
     "output_type": "stream",
     "text": [
      "[[1 2 3 4]\n",
      " [5 6 7 8]]\n"
     ]
    }
   ],
   "source": [
    "arr = np.array([1,2,3,4,5,6,7,8])\n",
    "x = np.resize(arr,(2,4))\n",
    "print(x)"
   ]
  },
  {
   "cell_type": "code",
   "execution_count": 21,
   "id": "d9ba6fb7-4c36-46ac-bd66-f0220458ffed",
   "metadata": {},
   "outputs": [
    {
     "name": "stdout",
     "output_type": "stream",
     "text": [
      "[[1 2 3 4]\n",
      " [5 6 7 8]]\n",
      "\n",
      "Flatten:  [1 5 2 6 3 7 4 8]\n",
      "\n",
      "Ravel:  [1 5 2 6 3 7 4 8]\n"
     ]
    }
   ],
   "source": [
    "arr = np.array([1,2,3,4,5,6,7,8])\n",
    "x = np.resize(arr,(2,4))\n",
    "print(x)\n",
    "print()\n",
    "print(\"Flatten: \",x.flatten(order=\"F\"))\n",
    "print()\n",
    "print(\"Ravel: \",x.ravel(order=\"F\"))"
   ]
  },
  {
   "cell_type": "code",
   "execution_count": null,
   "id": "608be533-a27d-4ff9-9072-33142ae57357",
   "metadata": {},
   "outputs": [],
   "source": []
  }
 ],
 "metadata": {
  "kernelspec": {
   "display_name": "Python 3 (ipykernel)",
   "language": "python",
   "name": "python3"
  },
  "language_info": {
   "codemirror_mode": {
    "name": "ipython",
    "version": 3
   },
   "file_extension": ".py",
   "mimetype": "text/x-python",
   "name": "python",
   "nbconvert_exporter": "python",
   "pygments_lexer": "ipython3",
   "version": "3.12.4"
  }
 },
 "nbformat": 4,
 "nbformat_minor": 5
}
