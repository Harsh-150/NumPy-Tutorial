{
 "cells": [
  {
   "cell_type": "code",
   "execution_count": 3,
   "id": "e569944e-a314-4d86-97c9-77ef38876bd3",
   "metadata": {},
   "outputs": [],
   "source": [
    "import numpy as np\n",
    "\n",
    "arr1 = np.array([1,2,4,5,6])\n",
    "arr2 = np.array([3,4,6,7])\n",
    "# print(arr1+arr2) --> gives error"
   ]
  },
  {
   "cell_type": "code",
   "execution_count": 5,
   "id": "f0cdb8db-d46c-473d-a58d-1858d7934779",
   "metadata": {},
   "outputs": [
    {
     "name": "stdout",
     "output_type": "stream",
     "text": [
      "[[ 2  3  5  6  7]\n",
      " [ 3  4  6  7  8]\n",
      " [ 4  5  7  8  9]\n",
      " [ 5  6  8  9 10]]\n"
     ]
    }
   ],
   "source": [
    "arr1 = np.array([1,2,4,5,6])\n",
    "arr2 = np.array([[1],[2],[3],[4]])\n",
    "\n",
    "print(arr1+arr2)"
   ]
  },
  {
   "cell_type": "code",
   "execution_count": 18,
   "id": "12a9b08e-036d-4c68-a138-b5e99ce37ac5",
   "metadata": {},
   "outputs": [
    {
     "name": "stdout",
     "output_type": "stream",
     "text": [
      "(3, 1)\n",
      "[[ 2  3  4]\n",
      " [ 6  7  8]\n",
      " [10 11 12]]\n"
     ]
    }
   ],
   "source": [
    "arr1 = np.array([[1],[2],[3]])\n",
    "print(arr1.shape)\n",
    "\n",
    "arr2 = np.array([[1,2,3],[4,5,6],[7,8,9]])\n",
    "\n",
    "print(arr1+arr2)"
   ]
  },
  {
   "cell_type": "code",
   "execution_count": null,
   "id": "e5d12221-432c-4e6e-bf6a-25a1fdcc60f3",
   "metadata": {},
   "outputs": [],
   "source": []
  }
 ],
 "metadata": {
  "kernelspec": {
   "display_name": "Python 3 (ipykernel)",
   "language": "python",
   "name": "python3"
  },
  "language_info": {
   "codemirror_mode": {
    "name": "ipython",
    "version": 3
   },
   "file_extension": ".py",
   "mimetype": "text/x-python",
   "name": "python",
   "nbconvert_exporter": "python",
   "pygments_lexer": "ipython3",
   "version": "3.12.4"
  }
 },
 "nbformat": 4,
 "nbformat_minor": 5
}
