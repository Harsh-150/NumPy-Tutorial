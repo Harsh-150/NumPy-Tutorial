{
 "cells": [
  {
   "cell_type": "code",
   "execution_count": 13,
   "id": "2ce24df7-7d2b-4cf8-9dc8-1a776942155e",
   "metadata": {},
   "outputs": [
    {
     "name": "stdout",
     "output_type": "stream",
     "text": [
      "[5473  513 6432  542]\n",
      "[5473  513 6432  542 6514 8765  654 1234 6954 9876]\n",
      "[1253 8762 5473  513 6432  542]\n",
      "[1253 5473 6432 6514  654 6954]\n",
      "[1253 5473 6432 6514  654 6954]\n"
     ]
    }
   ],
   "source": [
    "import numpy as np\n",
    "\n",
    "arr = np.array([1253,8762,5473,513,6432,542,6514,8765,654,1234,6954,9876])\n",
    "\n",
    "print(arr[2:6]) # from index: 2 to 5\n",
    "print(arr[2:]) # from index: 2 to end\n",
    "print(arr[:6]) # from start to index 5\n",
    "print(arr[0:13:2])\n",
    "print(arr[::2])"
   ]
  },
  {
   "cell_type": "code",
   "execution_count": 15,
   "id": "0575cbe0-d7b7-4a06-a417-44895f8bbd4b",
   "metadata": {},
   "outputs": [
    {
     "name": "stdout",
     "output_type": "stream",
     "text": [
      "[6 7 8]\n"
     ]
    }
   ],
   "source": [
    "arr = np.array([[1,2,3,4],[5,6,7,8],[9,10,11,12],[13,14,15,16]])\n",
    "\n",
    "print(arr[1,1:])"
   ]
  },
  {
   "cell_type": "code",
   "execution_count": null,
   "id": "ff15eaa6-de78-4539-9565-77232bf77858",
   "metadata": {},
   "outputs": [],
   "source": []
  }
 ],
 "metadata": {
  "kernelspec": {
   "display_name": "Python 3 (ipykernel)",
   "language": "python",
   "name": "python3"
  },
  "language_info": {
   "codemirror_mode": {
    "name": "ipython",
    "version": 3
   },
   "file_extension": ".py",
   "mimetype": "text/x-python",
   "name": "python",
   "nbconvert_exporter": "python",
   "pygments_lexer": "ipython3",
   "version": "3.12.4"
  }
 },
 "nbformat": 4,
 "nbformat_minor": 5
}
