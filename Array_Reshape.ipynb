{
 "cells": [
  {
   "cell_type": "code",
   "execution_count": 8,
   "id": "d36fd1b5-b5f3-4c42-916c-1f7946449892",
   "metadata": {},
   "outputs": [
    {
     "name": "stdout",
     "output_type": "stream",
     "text": [
      "[[1 2 5 9]\n",
      " [3 8 5 4]]\n",
      "(2, 4)\n"
     ]
    }
   ],
   "source": [
    "import numpy as np\n",
    "\n",
    "arr = np.array([[1,2,5,9] , [3,8,5,4]])\n",
    "print(arr)\n",
    "print(arr.shape)"
   ]
  },
  {
   "cell_type": "code",
   "execution_count": 14,
   "id": "479a1279-e376-4707-8141-8cff1a52433b",
   "metadata": {},
   "outputs": [
    {
     "name": "stdout",
     "output_type": "stream",
     "text": [
      "[[[[[[[[[[1 2 3 4 6]]]]]]]]]]\n",
      "10\n",
      "(1, 1, 1, 1, 1, 1, 1, 1, 1, 5)\n"
     ]
    }
   ],
   "source": [
    "arr1 = np.array([1,2,3,4,6] , ndmin=10)\n",
    "print(arr1)\n",
    "print(arr1.ndim)\n",
    "print(arr1.shape)"
   ]
  },
  {
   "cell_type": "code",
   "execution_count": 3,
   "id": "f5e5d995-03ae-48b3-a77d-2c59862a4046",
   "metadata": {},
   "outputs": [
    {
     "name": "stdout",
     "output_type": "stream",
     "text": [
      "[1 2 3 4 5 6]\n",
      "1\n",
      "[[1 2]\n",
      " [3 4]\n",
      " [5 6]]\n",
      "2\n"
     ]
    }
   ],
   "source": [
    "import numpy as np\n",
    "\n",
    "arr2 = np.array([1,2,3,4,5,6])\n",
    "print(arr2)\n",
    "print(arr2.ndim)\n",
    "\n",
    "arr3 = arr2.reshape(3,2)\n",
    "print(arr3)\n",
    "print(arr3.ndim)"
   ]
  },
  {
   "cell_type": "code",
   "execution_count": 5,
   "id": "3376f0a3-3317-4923-9f5b-61f746e1e334",
   "metadata": {},
   "outputs": [
    {
     "name": "stdout",
     "output_type": "stream",
     "text": [
      "[ 1  2  3  4  5  6  7  8  9 10 11 12]\n",
      "1\n",
      "[[[ 1  2]\n",
      "  [ 3  4]\n",
      "  [ 5  6]]\n",
      "\n",
      " [[ 7  8]\n",
      "  [ 9 10]\n",
      "  [11 12]]]\n",
      "3\n"
     ]
    }
   ],
   "source": [
    "arr4 = np.array([1,2,3,4,5,6,7,8,9,10,11,12])\n",
    "print(arr4)\n",
    "print(arr4.ndim)\n",
    "\n",
    "arr5 = arr4.reshape(2,3,2)\n",
    "print(arr5)\n",
    "print(arr5.ndim)"
   ]
  },
  {
   "cell_type": "code",
   "execution_count": 7,
   "id": "e66791ad-98cc-41f7-bedc-896f38a6287e",
   "metadata": {},
   "outputs": [
    {
     "name": "stdout",
     "output_type": "stream",
     "text": [
      "[ 1  2  3  4  5  6  7  8  9 10 11 12]\n",
      "1\n",
      "[[[ 1  2]\n",
      "  [ 3  4]\n",
      "  [ 5  6]]\n",
      "\n",
      " [[ 7  8]\n",
      "  [ 9 10]\n",
      "  [11 12]]]\n",
      "3\n",
      "[ 1  2  3  4  5  6  7  8  9 10 11 12]\n",
      "1\n"
     ]
    }
   ],
   "source": [
    "arr4 = np.array([1,2,3,4,5,6,7,8,9,10,11,12])\n",
    "print(arr4)\n",
    "print(arr4.ndim)\n",
    "\n",
    "arr5 = arr4.reshape(2,3,2)\n",
    "print(arr5)\n",
    "print(arr5.ndim)\n",
    "\n",
    "arr6 = arr5.reshape(-1)\n",
    "print(arr6)\n",
    "print(arr6.ndim)"
   ]
  }
 ],
 "metadata": {
  "kernelspec": {
   "display_name": "Python 3 (ipykernel)",
   "language": "python",
   "name": "python3"
  },
  "language_info": {
   "codemirror_mode": {
    "name": "ipython",
    "version": 3
   },
   "file_extension": ".py",
   "mimetype": "text/x-python",
   "name": "python",
   "nbconvert_exporter": "python",
   "pygments_lexer": "ipython3",
   "version": "3.12.4"
  }
 },
 "nbformat": 4,
 "nbformat_minor": 5
}
