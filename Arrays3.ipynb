{
 "cells": [
  {
   "cell_type": "code",
   "execution_count": 3,
   "id": "5f505909-5808-40a8-b529-09e0d255ab45",
   "metadata": {},
   "outputs": [
    {
     "name": "stdout",
     "output_type": "stream",
     "text": [
      "[0.63212561 0.482392   0.98193443 0.31053929 0.02472721]\n"
     ]
    }
   ],
   "source": [
    "import numpy as np\n",
    "\n",
    "variable_arr = np.random.rand(5) # rand --> numbers btw 0 and 1\n",
    "print(variable_arr)"
   ]
  },
  {
   "cell_type": "code",
   "execution_count": 7,
   "id": "d0b71e0e-9f21-4a15-9ba1-162fd63dd364",
   "metadata": {},
   "outputs": [
    {
     "name": "stdout",
     "output_type": "stream",
     "text": [
      "[[0.31828656 0.44290103 0.85902539 0.1356525  0.3965349  0.29372858]\n",
      " [0.71610403 0.30769185 0.41078733 0.67647346 0.83349832 0.78640255]\n",
      " [0.81448415 0.19060323 0.13286823 0.09317791 0.05480196 0.37303779]]\n"
     ]
    }
   ],
   "source": [
    "variable_arr2 = np.random.rand(3,6)\n",
    "print(variable_arr2)"
   ]
  },
  {
   "cell_type": "code",
   "execution_count": 9,
   "id": "bdf95b93-11ed-407a-93c1-3cd2905e576e",
   "metadata": {},
   "outputs": [
    {
     "name": "stdout",
     "output_type": "stream",
     "text": [
      "[ 1.46627007  0.7111129  -1.54562451 -0.57589483 -0.38453534  2.80756177]\n"
     ]
    }
   ],
   "source": [
    "variable_arr3 = np.random.randn(6) # close to 0 both +ve and -ve\n",
    "print(variable_arr3)"
   ]
  },
  {
   "cell_type": "code",
   "execution_count": 11,
   "id": "a8394b9e-2735-43a5-8842-24490618f70d",
   "metadata": {},
   "outputs": [
    {
     "name": "stdout",
     "output_type": "stream",
     "text": [
      "[[-0.31453069 -0.32688549  0.2135703  -1.60435081  1.61002676 -1.14835993]\n",
      " [ 1.29057678  0.5093551  -0.8695994   0.07342213 -1.73732889 -1.49479532]\n",
      " [-0.79432147 -0.38087132 -0.93399244 -0.71765288 -0.46744061  0.98613344]]\n"
     ]
    }
   ],
   "source": [
    "variable_arr4 = np.random.randn(3,6)\n",
    "print(variable_arr4)"
   ]
  },
  {
   "cell_type": "code",
   "execution_count": 18,
   "id": "22bb61c0-f75c-4e0a-9054-2c6e6f0e7ef6",
   "metadata": {},
   "outputs": [
    {
     "name": "stdout",
     "output_type": "stream",
     "text": [
      "[0.46409075 0.88018034 0.07624318 0.20871076 0.71517103 0.44657176]\n"
     ]
    }
   ],
   "source": [
    "variable_arr5 = np.random.ranf(6) # [0.0 , 1.0)\n",
    "print(variable_arr5)"
   ]
  },
  {
   "cell_type": "code",
   "execution_count": 26,
   "id": "b3d459ef-d7a2-462f-9fc0-2e7178577124",
   "metadata": {},
   "outputs": [
    {
     "name": "stdout",
     "output_type": "stream",
     "text": [
      "[[0.85979655 0.77119629 0.89914916]\n",
      " [0.77773029 0.41619495 0.90377998]\n",
      " [0.4885342  0.4600915  0.27927443]\n",
      " [0.13383361 0.45481635 0.34569046]\n",
      " [0.30268059 0.23084857 0.65433424]\n",
      " [0.57292561 0.35836307 0.97997449]]\n"
     ]
    }
   ],
   "source": [
    "variable_arr6 = np.random.ranf(18).reshape(6,3)\n",
    "print(variable_arr6)"
   ]
  },
  {
   "cell_type": "code",
   "execution_count": 28,
   "id": "51550cc6-abc5-41a3-a926-8f2aeb23963d",
   "metadata": {},
   "outputs": [
    {
     "name": "stdout",
     "output_type": "stream",
     "text": [
      "[4 7 5 4 4 4 3]\n"
     ]
    }
   ],
   "source": [
    "variable_arr7 = np.random.randint(2,10,7) # (min,max,totalvalues)\n",
    "print(variable_arr7)"
   ]
  },
  {
   "cell_type": "code",
   "execution_count": 30,
   "id": "02243521-f80f-4fea-b844-a3d2bddb7366",
   "metadata": {},
   "outputs": [
    {
     "name": "stdout",
     "output_type": "stream",
     "text": [
      "[[ 6  3 22 38 24]\n",
      " [10 27  6  9 40]\n",
      " [27 15 25 40 39]]\n"
     ]
    }
   ],
   "source": [
    "variable_arr7 = np.random.randint(2,50,15).reshape(3,5)\n",
    "print(variable_arr7)"
   ]
  },
  {
   "cell_type": "code",
   "execution_count": null,
   "id": "b3c8fff5-6f59-4eff-8b37-02ff4f0a656d",
   "metadata": {},
   "outputs": [],
   "source": []
  }
 ],
 "metadata": {
  "kernelspec": {
   "display_name": "Python 3 (ipykernel)",
   "language": "python",
   "name": "python3"
  },
  "language_info": {
   "codemirror_mode": {
    "name": "ipython",
    "version": 3
   },
   "file_extension": ".py",
   "mimetype": "text/x-python",
   "name": "python",
   "nbconvert_exporter": "python",
   "pygments_lexer": "ipython3",
   "version": "3.12.4"
  }
 },
 "nbformat": 4,
 "nbformat_minor": 5
}
