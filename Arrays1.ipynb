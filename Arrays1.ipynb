{
 "cells": [
  {
   "cell_type": "code",
   "execution_count": 9,
   "id": "efafda59-0bbd-418d-bfdd-bc03ac144953",
   "metadata": {},
   "outputs": [
    {
     "name": "stdout",
     "output_type": "stream",
     "text": [
      "[1, 2, 3, 4, 5, 6, 7, 8]\n",
      "<class 'list'>\n",
      "[1 2 3 4 5 6 7 8]\n",
      "<class 'numpy.ndarray'>\n",
      "1\n"
     ]
    }
   ],
   "source": [
    "import numpy as np\n",
    "\n",
    "x = [1,2,3,4,5,6,7,8]\n",
    "y = np.array(x)\n",
    "\n",
    "print(x)\n",
    "print(type(x))\n",
    "print(y)\n",
    "print(type(y))\n",
    "print(y.ndim)"
   ]
  },
  {
   "cell_type": "code",
   "execution_count": 3,
   "id": "d8130eed-9ace-40d8-ba9c-4dd21cb1bcf0",
   "metadata": {},
   "outputs": [
    {
     "name": "stdin",
     "output_type": "stream",
     "text": [
      "enter value:  12\n",
      "enter value:  23\n",
      "enter value:  123\n",
      "enter value:  43\n",
      "enter value:  98\n"
     ]
    },
    {
     "name": "stdout",
     "output_type": "stream",
     "text": [
      "['12' '23' '123' '43' '98']\n",
      "12\n",
      "<class 'str'>\n"
     ]
    }
   ],
   "source": [
    "l = []\n",
    "for i in range(1,6):\n",
    "    int_ip = input(\"enter value: \")\n",
    "    l.append(int_ip)\n",
    "\n",
    "print(np.array(l))\n",
    "print(l[0])\n",
    "print(type(l[0]))"
   ]
  },
  {
   "cell_type": "code",
   "execution_count": 7,
   "id": "6e80da5f-f8a4-4436-86cf-b3cc9f29ed54",
   "metadata": {},
   "outputs": [
    {
     "name": "stdin",
     "output_type": "stream",
     "text": [
      "enter value:  43\n",
      "enter value:  54\n",
      "enter value:  65\n",
      "enter value:  776\n",
      "enter value:  876\n"
     ]
    },
    {
     "name": "stdout",
     "output_type": "stream",
     "text": [
      "[ 43  54  65 776 876]\n",
      "43\n",
      "<class 'int'>\n"
     ]
    }
   ],
   "source": [
    "m = []\n",
    "for i in range(1,6):\n",
    "    int_ip = int(input(\"enter value: \"))\n",
    "    m.append(int_ip)\n",
    "\n",
    "print(np.array(m))\n",
    "print(m[0])\n",
    "print(type(m[0]))"
   ]
  },
  {
   "cell_type": "code",
   "execution_count": 17,
   "id": "90ccf52e-14b3-41eb-827c-bd0a7896f9c1",
   "metadata": {},
   "outputs": [
    {
     "name": "stdout",
     "output_type": "stream",
     "text": [
      "[[ 1  2  3  4  5]\n",
      " [ 6  7  8  9 10]]\n",
      "2\n"
     ]
    }
   ],
   "source": [
    "arr2 = np.array([[1,2,3,4,5] , [6,7,8,9,10]])\n",
    "print(arr2)\n",
    "print(arr2.ndim)"
   ]
  },
  {
   "cell_type": "code",
   "execution_count": 19,
   "id": "bb148bf8-4c74-466e-ad17-6d0e3d6b8b8f",
   "metadata": {},
   "outputs": [
    {
     "name": "stdout",
     "output_type": "stream",
     "text": [
      "[[[[[[[[[[1 2 3 4 5]]]]]]]]]]\n",
      "10\n"
     ]
    }
   ],
   "source": [
    "arrn = np.array([1,2,3,4,5] , ndmin = 10)\n",
    "print(arrn)\n",
    "print(arrn.ndim)"
   ]
  },
  {
   "cell_type": "code",
   "execution_count": null,
   "id": "fb867541-58f5-4686-aa9b-b53bb9d21554",
   "metadata": {},
   "outputs": [],
   "source": []
  }
 ],
 "metadata": {
  "kernelspec": {
   "display_name": "Python 3 (ipykernel)",
   "language": "python",
   "name": "python3"
  },
  "language_info": {
   "codemirror_mode": {
    "name": "ipython",
    "version": 3
   },
   "file_extension": ".py",
   "mimetype": "text/x-python",
   "name": "python",
   "nbconvert_exporter": "python",
   "pygments_lexer": "ipython3",
   "version": "3.12.4"
  }
 },
 "nbformat": 4,
 "nbformat_minor": 5
}
