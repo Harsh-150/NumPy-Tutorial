{
 "cells": [
  {
   "cell_type": "code",
   "execution_count": 11,
   "id": "98f5e3fb-ad8b-456e-b357-44e84d2ca3d4",
   "metadata": {},
   "outputs": [
    {
     "name": "stdout",
     "output_type": "stream",
     "text": [
      "[  1   2   3 999   5   6   7   8   9]\n",
      "\n",
      "[1 2 3 4 5 6 7 8 9]\n"
     ]
    }
   ],
   "source": [
    "import numpy as np\n",
    "\n",
    "arr = np.array([1,2,3,4,5,6,7,8,9])\n",
    "arr_copy = arr.copy()\n",
    "\n",
    "arr[3] = 999\n",
    "\n",
    "print(arr)\n",
    "print()\n",
    "print(arr_copy)"
   ]
  },
  {
   "cell_type": "code",
   "execution_count": 17,
   "id": "e9783135-ced0-449a-b279-fd8e24b73cbf",
   "metadata": {},
   "outputs": [
    {
     "name": "stdout",
     "output_type": "stream",
     "text": [
      "[  31   42   53 5678 9876   63   75   82   90]\n",
      "\n",
      "[  31   42   53 5678 9876   63   75   82   90]\n"
     ]
    }
   ],
   "source": [
    "arr = np.array([31,42,53,84,85,63,75,82,90])\n",
    "arr_view = arr.view()\n",
    "\n",
    "arr[3] = 5678\n",
    "arr_view[4] = 9876\n",
    "\n",
    "print(arr)\n",
    "print()\n",
    "print(arr_view)"
   ]
  },
  {
   "cell_type": "code",
   "execution_count": null,
   "id": "187f0c83-07f1-4809-9df9-ce60a8a6df8a",
   "metadata": {},
   "outputs": [],
   "source": []
  }
 ],
 "metadata": {
  "kernelspec": {
   "display_name": "Python 3 (ipykernel)",
   "language": "python",
   "name": "python3"
  },
  "language_info": {
   "codemirror_mode": {
    "name": "ipython",
    "version": 3
   },
   "file_extension": ".py",
   "mimetype": "text/x-python",
   "name": "python",
   "nbconvert_exporter": "python",
   "pygments_lexer": "ipython3",
   "version": "3.12.4"
  }
 },
 "nbformat": 4,
 "nbformat_minor": 5
}
