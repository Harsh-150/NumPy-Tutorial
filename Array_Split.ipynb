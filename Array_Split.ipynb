{
 "cells": [
  {
   "cell_type": "code",
   "execution_count": 5,
   "id": "6e4b7183-bbee-490a-ac1d-b3f19fdb47a8",
   "metadata": {},
   "outputs": [
    {
     "name": "stdout",
     "output_type": "stream",
     "text": [
      "[1 2 3 4 5 7 9]\n",
      "[array([1, 2, 3]), array([4, 5]), array([7, 9])]\n",
      "<class 'list'>\n",
      "[1 2 3]\n"
     ]
    }
   ],
   "source": [
    "import numpy as np\n",
    "\n",
    "arr = np.array([1,2,3,4,5,7,9])\n",
    "print(arr)\n",
    "\n",
    "arr1 = np.array_split(arr,3)\n",
    "print(arr1)\n",
    "print(type(arr1))\n",
    "print(arr1[0])"
   ]
  },
  {
   "cell_type": "code",
   "execution_count": 11,
   "id": "4e15af94-496f-4c32-aa24-9deb8bfccdfb",
   "metadata": {},
   "outputs": [
    {
     "name": "stdout",
     "output_type": "stream",
     "text": [
      "[[ 1  2  3]\n",
      " [ 4  5  7]\n",
      " [13 23  9]]\n",
      "\n",
      "[array([[ 1],\n",
      "       [ 4],\n",
      "       [13]]), array([[ 2],\n",
      "       [ 5],\n",
      "       [23]]), array([[3],\n",
      "       [7],\n",
      "       [9]])]\n",
      "\n",
      "<class 'list'>\n",
      "\n",
      "[[ 1]\n",
      " [ 4]\n",
      " [13]]\n"
     ]
    }
   ],
   "source": [
    "arr = np.array([[1,2,3],[4,5,7],[13,23,9]])\n",
    "print(arr)\n",
    "print()\n",
    "\n",
    "arr1 = np.array_split(arr,3,axis=1)\n",
    "print(arr1)\n",
    "print()\n",
    "print(type(arr1))\n",
    "print()\n",
    "print(arr1[0])"
   ]
  },
  {
   "cell_type": "code",
   "execution_count": null,
   "id": "0b3341b2-e651-4ae4-9b69-4549dffd41f7",
   "metadata": {},
   "outputs": [],
   "source": []
  }
 ],
 "metadata": {
  "kernelspec": {
   "display_name": "Python 3 (ipykernel)",
   "language": "python",
   "name": "python3"
  },
  "language_info": {
   "codemirror_mode": {
    "name": "ipython",
    "version": 3
   },
   "file_extension": ".py",
   "mimetype": "text/x-python",
   "name": "python",
   "nbconvert_exporter": "python",
   "pygments_lexer": "ipython3",
   "version": "3.12.4"
  }
 },
 "nbformat": 4,
 "nbformat_minor": 5
}
