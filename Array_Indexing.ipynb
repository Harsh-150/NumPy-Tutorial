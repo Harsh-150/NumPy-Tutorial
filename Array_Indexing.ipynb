{
 "cells": [
  {
   "cell_type": "code",
   "execution_count": 1,
   "id": "23c4737d-5be4-4ab2-af1e-ce121387f72e",
   "metadata": {},
   "outputs": [
    {
     "name": "stdout",
     "output_type": "stream",
     "text": [
      "1098\n",
      "999\n",
      "543\n",
      "999\n"
     ]
    }
   ],
   "source": [
    "import numpy as np\n",
    "\n",
    "arr = np.array([1098,1232,3123,245,526,767,835,999,543])\n",
    "\n",
    "print(arr[0])\n",
    "print(arr[7])\n",
    "print(arr[-1])\n",
    "print(arr[-2])"
   ]
  },
  {
   "cell_type": "code",
   "execution_count": 13,
   "id": "8c5827a1-1f69-406c-a3fc-898212d815e2",
   "metadata": {},
   "outputs": [
    {
     "name": "stdout",
     "output_type": "stream",
     "text": [
      "[1 2 3]\n",
      "[11 24 53]\n",
      "5\n"
     ]
    }
   ],
   "source": [
    "arr = np.array([[1,2,3],[4,5,7],[11,24,53]])\n",
    "\n",
    "print(arr[0])\n",
    "print(arr[-1])\n",
    "print(arr[-2,1])"
   ]
  },
  {
   "cell_type": "code",
   "execution_count": 15,
   "id": "ce8840d1-407a-40f9-9a80-216eb4a464c6",
   "metadata": {},
   "outputs": [
    {
     "name": "stdout",
     "output_type": "stream",
     "text": [
      "[[[1 2 3]\n",
      "  [6 7 8]]]\n",
      "3\n",
      "[1 2 3]\n",
      "8\n"
     ]
    }
   ],
   "source": [
    "arr = np.array([[[1,2,3],[6,7,8]]])\n",
    "\n",
    "print(arr)\n",
    "print(arr.ndim)\n",
    "print(arr[0,0])\n",
    "print(arr[0,1,2])"
   ]
  },
  {
   "cell_type": "code",
   "execution_count": null,
   "id": "bf4bd9c5-4432-4bf5-b7b3-ce9db889c476",
   "metadata": {},
   "outputs": [],
   "source": []
  }
 ],
 "metadata": {
  "kernelspec": {
   "display_name": "Python 3 (ipykernel)",
   "language": "python",
   "name": "python3"
  },
  "language_info": {
   "codemirror_mode": {
    "name": "ipython",
    "version": 3
   },
   "file_extension": ".py",
   "mimetype": "text/x-python",
   "name": "python",
   "nbconvert_exporter": "python",
   "pygments_lexer": "ipython3",
   "version": "3.12.4"
  }
 },
 "nbformat": 4,
 "nbformat_minor": 5
}
