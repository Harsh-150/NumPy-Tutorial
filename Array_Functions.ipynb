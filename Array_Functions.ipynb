{
 "cells": [
  {
   "cell_type": "code",
   "execution_count": 1,
   "id": "9723ca3c-f37d-4b7a-970d-6a3c928de18e",
   "metadata": {},
   "outputs": [
    {
     "name": "stdout",
     "output_type": "stream",
     "text": [
      "Minimum element:  1\n",
      "Maximum element:  8\n",
      "Minimum element position:  0\n",
      "Maximum element position:  7\n"
     ]
    }
   ],
   "source": [
    "import numpy as np\n",
    "\n",
    "arr = np.array([1,2,3,4,5,6,7,8])\n",
    "\n",
    "print(\"Minimum element: \", np.min(arr))\n",
    "print(\"Maximum element: \", np.max(arr))\n",
    "print(\"Minimum element position: \", np.argmin(arr))\n",
    "print(\"Maximum element position: \", np.argmax(arr))"
   ]
  },
  {
   "cell_type": "code",
   "execution_count": 9,
   "id": "5ed66769-355f-4227-8195-4d2607d3387b",
   "metadata": {},
   "outputs": [
    {
     "name": "stdout",
     "output_type": "stream",
     "text": [
      "Minimum element:  [ 1  2  3  4  5  6  7 16]\n",
      "Maximum element:  [98 16]\n",
      "Minimum element position:  [0 0]\n",
      "Maximum element position:  [1 1 1 1 1 1 1 0]\n"
     ]
    }
   ],
   "source": [
    "arr = np.array([[1,2,3,4,5,6,7,98] , [9,10,11,12,13,14,15,16]])\n",
    "\n",
    "print(\"Minimum element: \", np.min(arr,axis=0)) # axis = 0 --> col\n",
    "print(\"Maximum element: \", np.max(arr,axis=1)) # axis = 1 --> row\n",
    "print(\"Minimum element position: \", np.argmin(arr,axis=1))\n",
    "print(\"Maximum element position: \", np.argmax(arr,axis=0))"
   ]
  },
  {
   "cell_type": "code",
   "execution_count": 15,
   "id": "1580e752-0bd3-4216-bc40-1de0de7d7865",
   "metadata": {},
   "outputs": [
    {
     "name": "stdout",
     "output_type": "stream",
     "text": [
      "[2. 3. 5. 6. 7. 8.]\n"
     ]
    }
   ],
   "source": [
    "arr = np.array([4,9,25,36,49,64])\n",
    "\n",
    "print(np.sqrt(arr))"
   ]
  },
  {
   "cell_type": "code",
   "execution_count": 19,
   "id": "23181278-55bd-4ecb-97bb-94a3b5b41dcc",
   "metadata": {},
   "outputs": [
    {
     "name": "stdout",
     "output_type": "stream",
     "text": [
      "[ 0.         -0.98803162  0.85090352 -0.30481062  0.89399666]\n",
      "[ 1.          0.15425145  0.52532199 -0.95241298 -0.44807362]\n",
      "[  0  30  75 135 225]\n"
     ]
    }
   ],
   "source": [
    "arr = np.array([0,30,45,60,90])\n",
    "\n",
    "print(np.sin(arr))\n",
    "print(np.cos(arr))\n",
    "print(np.cumsum(arr)) # cumulative sum"
   ]
  },
  {
   "cell_type": "code",
   "execution_count": null,
   "id": "ddf83c7d-b6b2-4f7b-b599-968313e66419",
   "metadata": {},
   "outputs": [],
   "source": []
  }
 ],
 "metadata": {
  "kernelspec": {
   "display_name": "Python 3 (ipykernel)",
   "language": "python",
   "name": "python3"
  },
  "language_info": {
   "codemirror_mode": {
    "name": "ipython",
    "version": 3
   },
   "file_extension": ".py",
   "mimetype": "text/x-python",
   "name": "python",
   "nbconvert_exporter": "python",
   "pygments_lexer": "ipython3",
   "version": "3.12.4"
  }
 },
 "nbformat": 4,
 "nbformat_minor": 5
}
