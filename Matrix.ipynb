{
 "cells": [
  {
   "cell_type": "code",
   "execution_count": 9,
   "id": "134f5288-d9e9-4e4a-8ad0-528ee6d5c24e",
   "metadata": {},
   "outputs": [
    {
     "name": "stdout",
     "output_type": "stream",
     "text": [
      "[[1 2 3]\n",
      " [4 5 6]\n",
      " [7 8 9]]\n",
      "<class 'numpy.matrix'>\n",
      "\n",
      "[[1 2 3]\n",
      " [4 5 6]\n",
      " [7 8 9]]\n",
      "<class 'numpy.ndarray'>\n"
     ]
    }
   ],
   "source": [
    "import numpy as np\n",
    "\n",
    "arr1 = np.matrix([[1,2,3],[4,5,6],[7,8,9]])\n",
    "print(arr1)\n",
    "print(type(arr1))\n",
    "\n",
    "print()\n",
    "\n",
    "arr2 = np.array([[1,2,3],[4,5,6],[7,8,9]])\n",
    "print(arr2)\n",
    "print(type(arr2))"
   ]
  },
  {
   "cell_type": "code",
   "execution_count": 15,
   "id": "4531bb41-5bcd-4bea-b774-e5dde7db14a0",
   "metadata": {},
   "outputs": [
    {
     "name": "stdout",
     "output_type": "stream",
     "text": [
      "[[ 16  29  96]\n",
      " [ 78  40  75]\n",
      " [ 77  96 101]]\n",
      "\n",
      "[[-14 -25 -90]\n",
      " [-70 -30 -63]\n",
      " [-63 -80 -83]]\n",
      "\n",
      "[[ 373  361  507]\n",
      " [ 850  811 1269]\n",
      " [1327 1261 2031]]\n"
     ]
    }
   ],
   "source": [
    "arr1 = np.matrix([[1,2,3],[4,5,6],[7,8,9]])\n",
    "arr2 = np.matrix([[15,27,93],[74,35,69],[70,88,92]])\n",
    "\n",
    "print(arr1+arr2)\n",
    "print()\n",
    "\n",
    "print(arr1-arr2)\n",
    "print()\n",
    "\n",
    "print(arr1*arr2)\n",
    "print()\n"
   ]
  },
  {
   "cell_type": "code",
   "execution_count": 39,
   "id": "26618c9e-dd72-43c3-9514-44314b1036d3",
   "metadata": {},
   "outputs": [
    {
     "name": "stdout",
     "output_type": "stream",
     "text": [
      "[[1 2 3]\n",
      " [1 2 9]\n",
      " [7 8 9]]\n",
      "\n",
      "[[1 1 7]\n",
      " [2 2 8]\n",
      " [3 9 9]]\n",
      "\n",
      "[[1 1 7]\n",
      " [2 2 8]\n",
      " [3 9 9]]\n",
      "\n",
      "[[1 1 7]\n",
      " [2 2 8]\n",
      " [3 9 9]]\n",
      "\n",
      "[[-1.5         0.16666667  0.33333333]\n",
      " [ 1.5        -0.33333333 -0.16666667]\n",
      " [-0.16666667  0.16666667 -0.        ]]\n",
      "\n",
      "[[ 390  492  774]\n",
      " [ 858 1104 1818]\n",
      " [1398 1752 2718]]\n",
      "\n",
      "36.0\n"
     ]
    }
   ],
   "source": [
    "arr = np.matrix([[1,2,3],[1,2,9],[7,8,9]])\n",
    "\n",
    "print(arr)\n",
    "print()\n",
    "\n",
    "print(np.transpose(arr))\n",
    "print()\n",
    "print(arr.T)\n",
    "print()\n",
    "print(np.swapaxes(arr,0,1))\n",
    "print()\n",
    "\n",
    "print(np.linalg.inv(arr))\n",
    "print()\n",
    "\n",
    "print(np.linalg.matrix_power(arr,3))\n",
    "print()\n",
    "\n",
    "print(np.linalg.det(arr))"
   ]
  },
  {
   "cell_type": "code",
   "execution_count": null,
   "id": "762f8037-e3e1-4954-b565-4837561f2f27",
   "metadata": {},
   "outputs": [],
   "source": []
  }
 ],
 "metadata": {
  "kernelspec": {
   "display_name": "Python 3 (ipykernel)",
   "language": "python",
   "name": "python3"
  },
  "language_info": {
   "codemirror_mode": {
    "name": "ipython",
    "version": 3
   },
   "file_extension": ".py",
   "mimetype": "text/x-python",
   "name": "python",
   "nbconvert_exporter": "python",
   "pygments_lexer": "ipython3",
   "version": "3.12.4"
  }
 },
 "nbformat": 4,
 "nbformat_minor": 5
}
