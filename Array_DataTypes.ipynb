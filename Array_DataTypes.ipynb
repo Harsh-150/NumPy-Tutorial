{
 "cells": [
  {
   "cell_type": "code",
   "execution_count": 1,
   "id": "273101a0-5020-456e-9ba7-11ae5d23c1ae",
   "metadata": {},
   "outputs": [
    {
     "name": "stdout",
     "output_type": "stream",
     "text": [
      "Data Type:  int32\n"
     ]
    }
   ],
   "source": [
    "import numpy as np\n",
    "\n",
    "arr = np.array([1,2,3,4,5,6])\n",
    "\n",
    "print(\"Data Type: \", arr.dtype)"
   ]
  },
  {
   "cell_type": "code",
   "execution_count": 3,
   "id": "129ca7a4-d172-4a1a-9b03-b554ed14e06d",
   "metadata": {},
   "outputs": [
    {
     "name": "stdout",
     "output_type": "stream",
     "text": [
      "Data Type:  float64\n"
     ]
    }
   ],
   "source": [
    "arr = np.array([1.1,2,3,4.9,5.3,6,4,5.7,7.5])\n",
    "\n",
    "print(\"Data Type: \", arr.dtype)"
   ]
  },
  {
   "cell_type": "code",
   "execution_count": 5,
   "id": "c0040df5-6711-485b-91aa-191bde4d6199",
   "metadata": {},
   "outputs": [
    {
     "name": "stdout",
     "output_type": "stream",
     "text": [
      "Data Type:  <U5\n"
     ]
    }
   ],
   "source": [
    "arr = np.array([\"kjhgf\",\"poiuy\",\"tyhg\",\"bvcgh\"])\n",
    "\n",
    "print(\"Data Type: \", arr.dtype)"
   ]
  },
  {
   "cell_type": "code",
   "execution_count": 7,
   "id": "97f0bdad-4817-48a1-8c49-6393eb0fbc69",
   "metadata": {},
   "outputs": [
    {
     "name": "stdout",
     "output_type": "stream",
     "text": [
      "Data Type:  <U32\n"
     ]
    }
   ],
   "source": [
    "arr = np.array([1.1,2,3,4.9,5.3,6,4,5.7,7.5,\"kjhgf\",\"poiuy\",\"tyhg\",\"bvcgh\"])\n",
    "\n",
    "print(\"Data Type: \", arr.dtype)"
   ]
  },
  {
   "cell_type": "code",
   "execution_count": 11,
   "id": "a709f747-22c9-42eb-a1b5-f687631c8df9",
   "metadata": {},
   "outputs": [
    {
     "name": "stdout",
     "output_type": "stream",
     "text": [
      "Data Type:  int8\n"
     ]
    }
   ],
   "source": [
    "arr = np.array([1,2,3,4,5,6], dtype = np.int8) # changing data type\n",
    "\n",
    "print(\"Data Type: \", arr.dtype)"
   ]
  },
  {
   "cell_type": "code",
   "execution_count": 13,
   "id": "a6095e81-93e5-4ee0-827b-5ca045b58783",
   "metadata": {},
   "outputs": [
    {
     "name": "stdout",
     "output_type": "stream",
     "text": [
      "Data Type:  float32\n"
     ]
    }
   ],
   "source": [
    "arr = np.array([1,2,3,4,5,6] , dtype = \"f\")\n",
    "\n",
    "print(\"Data Type: \", arr.dtype)"
   ]
  },
  {
   "cell_type": "code",
   "execution_count": 17,
   "id": "5388abf2-b076-488b-917a-2d671c5a9082",
   "metadata": {},
   "outputs": [
    {
     "name": "stdout",
     "output_type": "stream",
     "text": [
      "Data Type:  int32\n",
      "Data Type:  float32\n",
      "[1 2 3 4 5 6 7 8 9]\n",
      "[1. 2. 3. 4. 5. 6. 7. 8. 9.]\n"
     ]
    }
   ],
   "source": [
    "arr1 = np.array([1,2,3,4,5,6,7,8,9]) \n",
    "\n",
    "newDataType = np.float32(arr1)\n",
    "\n",
    "print(\"Data Type: \",arr1.dtype)\n",
    "print(\"Data Type: \",newDataType.dtype)\n",
    "print(arr1)\n",
    "print(newDataType)\n"
   ]
  },
  {
   "cell_type": "code",
   "execution_count": 21,
   "id": "08324fec-853b-47d5-8699-d8ba651d70f9",
   "metadata": {},
   "outputs": [
    {
     "name": "stdout",
     "output_type": "stream",
     "text": [
      "Data Type:  int32\n",
      "Data Type:  float64\n",
      "[1 2 3 4 5 6 7 8 9]\n",
      "[1. 2. 3. 4. 5. 6. 7. 8. 9.]\n"
     ]
    }
   ],
   "source": [
    "arr1 = np.array([1,2,3,4,5,6,7,8,9]) \n",
    "\n",
    "newDataType = arr1.astype(float)\n",
    "\n",
    "print(\"Data Type: \",arr1.dtype)\n",
    "print(\"Data Type: \",newDataType.dtype)\n",
    "print(arr1)\n",
    "print(newDataType)\n"
   ]
  },
  {
   "cell_type": "code",
   "execution_count": null,
   "id": "ff092c36-5a6d-47e8-bd80-087640bdce34",
   "metadata": {},
   "outputs": [],
   "source": []
  }
 ],
 "metadata": {
  "kernelspec": {
   "display_name": "Python 3 (ipykernel)",
   "language": "python",
   "name": "python3"
  },
  "language_info": {
   "codemirror_mode": {
    "name": "ipython",
    "version": 3
   },
   "file_extension": ".py",
   "mimetype": "text/x-python",
   "name": "python",
   "nbconvert_exporter": "python",
   "pygments_lexer": "ipython3",
   "version": "3.12.4"
  }
 },
 "nbformat": 4,
 "nbformat_minor": 5
}
