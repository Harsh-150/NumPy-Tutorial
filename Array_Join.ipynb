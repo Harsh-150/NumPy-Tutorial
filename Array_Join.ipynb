{
 "cells": [
  {
   "cell_type": "code",
   "execution_count": 3,
   "id": "3e75be6d-93e3-4185-8e91-e0ef2cb8bee2",
   "metadata": {},
   "outputs": [
    {
     "name": "stdout",
     "output_type": "stream",
     "text": [
      "[1 2 3 4 5 7 6 5 4 3]\n"
     ]
    }
   ],
   "source": [
    "import numpy as np\n",
    "\n",
    "arr1 = np.array([1,2,3,4,5])\n",
    "arr2 = np.array([7,6,5,4,3])\n",
    "\n",
    "arr = np.concatenate((arr1,arr2))\n",
    "print(arr)"
   ]
  },
  {
   "cell_type": "code",
   "execution_count": 11,
   "id": "f9e3672d-eec8-43b4-8712-271117f11eea",
   "metadata": {},
   "outputs": [
    {
     "name": "stdout",
     "output_type": "stream",
     "text": [
      "[[ 1  2  3  4  5]\n",
      " [ 2  3  4  8  7]\n",
      " [ 7  6  5  4  3]\n",
      " [ 1 76 23 76  2]]\n",
      "[[ 1  2  3  4  5  7  6  5  4  3]\n",
      " [ 2  3  4  8  7  1 76 23 76  2]]\n"
     ]
    }
   ],
   "source": [
    "arr1 = np.array([[1,2,3,4,5],[2,3,4,8,7]])\n",
    "arr2 = np.array([[7,6,5,4,3],[1,76,23,76,2]])\n",
    "\n",
    "arr_res1 = np.concatenate((arr1,arr2),axis=0)\n",
    "arr_res2 = np.concatenate((arr1,arr2),axis=1)\n",
    "\n",
    "print(arr_res1)\n",
    "print(arr_res2)"
   ]
  },
  {
   "cell_type": "code",
   "execution_count": 23,
   "id": "8a7b725e-d8b1-46e6-b9f4-03b28f43fc1e",
   "metadata": {},
   "outputs": [
    {
     "name": "stdout",
     "output_type": "stream",
     "text": [
      "[1 2 3 4 5 7 6 5 4 3]\n",
      "[[1 2 3 4 5]\n",
      " [7 6 5 4 3]]\n",
      "[[[1 7]\n",
      "  [2 6]\n",
      "  [3 5]\n",
      "  [4 4]\n",
      "  [5 3]]]\n"
     ]
    }
   ],
   "source": [
    "arr1 = np.array([1,2,3,4,5])\n",
    "arr2 = np.array([7,6,5,4,3])\n",
    "\n",
    "ans1 = np.hstack((arr1,arr2)) # row\n",
    "ans2 = np.vstack((arr1,arr2)) # col\n",
    "ans3 = np.dstack((arr1,arr2)) # height\n",
    "\n",
    "print(ans1)\n",
    "print(ans2)\n",
    "print(ans3)"
   ]
  },
  {
   "cell_type": "code",
   "execution_count": null,
   "id": "7f482b10-84c7-472e-9bc0-61a734584bcb",
   "metadata": {},
   "outputs": [],
   "source": []
  }
 ],
 "metadata": {
  "kernelspec": {
   "display_name": "Python 3 (ipykernel)",
   "language": "python",
   "name": "python3"
  },
  "language_info": {
   "codemirror_mode": {
    "name": "ipython",
    "version": 3
   },
   "file_extension": ".py",
   "mimetype": "text/x-python",
   "name": "python",
   "nbconvert_exporter": "python",
   "pygments_lexer": "ipython3",
   "version": "3.12.4"
  }
 },
 "nbformat": 4,
 "nbformat_minor": 5
}
